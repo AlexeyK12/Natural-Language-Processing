{
 "cells": [
  {
   "cell_type": "code",
   "execution_count": 13,
   "id": "84cc17f1",
   "metadata": {},
   "outputs": [
    {
     "data": {
      "text/html": [
       "<style>.container { width:70% !important; }</style>"
      ],
      "text/plain": [
       "<IPython.core.display.HTML object>"
      ]
     },
     "metadata": {},
     "output_type": "display_data"
    },
    {
     "data": {
      "application/javascript": [
       "IPython.notebook.set_autosave_interval(60000)"
      ]
     },
     "metadata": {},
     "output_type": "display_data"
    },
    {
     "name": "stdout",
     "output_type": "stream",
     "text": [
      "Autosaving every 60 seconds\n"
     ]
    }
   ],
   "source": [
    "import pandas as pd\n",
    "import numpy as np\n",
    "import joblib\n",
    "from sklearn.feature_extraction.text import TfidfVectorizer\n",
    "from sklearn.pipeline import Pipeline\n",
    "from sklearn.model_selection import train_test_split\n",
    "from sklearn.metrics import roc_auc_score\n",
    "from lightgbm import LGBMClassifier\n",
    "\n",
    "import warnings\n",
    "from IPython.display import display, HTML, Javascript\n",
    "display(HTML(\"<style>.container { width:70% !important; }</style>\"))\n",
    "pd.options.display.max_columns = None\n",
    "warnings.filterwarnings('ignore') \n",
    "%autosave 60"
   ]
  },
  {
   "cell_type": "markdown",
   "id": "d19dcacb",
   "metadata": {},
   "source": [
    "# HW1. Определение контактной информации в объявлении"
   ]
  },
  {
   "cell_type": "markdown",
   "id": "d5d71f7d",
   "metadata": {},
   "source": [
    "- В этом задании вам предстоит реализовать решение для поиска контактов в объявлениях\n",
    "- Таргет is_bad. Если is_bad = 1 - контакты в объявлении есть, иначе нет\n",
    "- В train.csv разметка может быть неточная\n",
    "- Задача показать результат ROC AUC >= 0.8\n",
    "- ROC AUC будет усредняться по каждой категории: оценка сначала в разрезе каждой категории, а потом усреднение\n",
    "- ВАЖНО: На платформе установлены следующие библиотеки (необходимо ограничиться ими):\n",
    " - joblib==1.3.2\n",
    " - numpy==1.23.5\n",
    " - pandas==2.2.2\n",
    " - scipy==1.11.4\n",
    " - scikit-learn==1.4.2\n",
    " - lightgbm==4.3.0"
   ]
  },
  {
   "cell_type": "code",
   "execution_count": 2,
   "id": "70fe7f78",
   "metadata": {},
   "outputs": [],
   "source": [
    "train = pd.read_csv(r\"C:\\Users\\Windows 10\\Downloads\\NLP\\train.csv\")"
   ]
  },
  {
   "cell_type": "code",
   "execution_count": 3,
   "id": "b47cb0f3",
   "metadata": {},
   "outputs": [
    {
     "name": "stdout",
     "output_type": "stream",
     "text": [
      "<class 'pandas.core.frame.DataFrame'>\n",
      "RangeIndex: 984487 entries, 0 to 984486\n",
      "Data columns (total 9 columns):\n",
      " #   Column              Non-Null Count   Dtype  \n",
      "---  ------              --------------   -----  \n",
      " 0   title               984487 non-null  object \n",
      " 1   description         984487 non-null  object \n",
      " 2   subcategory         984487 non-null  object \n",
      " 3   category            984487 non-null  object \n",
      " 4   price               926439 non-null  float64\n",
      " 5   region              984487 non-null  object \n",
      " 6   city                984487 non-null  object \n",
      " 7   datetime_submitted  984487 non-null  object \n",
      " 8   is_bad              984487 non-null  int64  \n",
      "dtypes: float64(1), int64(1), object(7)\n",
      "memory usage: 67.6+ MB\n"
     ]
    }
   ],
   "source": [
    "train.info()"
   ]
  },
  {
   "cell_type": "code",
   "execution_count": 4,
   "id": "b34b0243",
   "metadata": {},
   "outputs": [
    {
     "data": {
      "text/html": [
       "<div>\n",
       "<style scoped>\n",
       "    .dataframe tbody tr th:only-of-type {\n",
       "        vertical-align: middle;\n",
       "    }\n",
       "\n",
       "    .dataframe tbody tr th {\n",
       "        vertical-align: top;\n",
       "    }\n",
       "\n",
       "    .dataframe thead th {\n",
       "        text-align: right;\n",
       "    }\n",
       "</style>\n",
       "<table border=\"1\" class=\"dataframe\">\n",
       "  <thead>\n",
       "    <tr style=\"text-align: right;\">\n",
       "      <th></th>\n",
       "      <th>title</th>\n",
       "      <th>description</th>\n",
       "      <th>subcategory</th>\n",
       "      <th>category</th>\n",
       "      <th>price</th>\n",
       "      <th>region</th>\n",
       "      <th>city</th>\n",
       "      <th>datetime_submitted</th>\n",
       "      <th>is_bad</th>\n",
       "    </tr>\n",
       "  </thead>\n",
       "  <tbody>\n",
       "    <tr>\n",
       "      <th>0</th>\n",
       "      <td>Диван-кровать</td>\n",
       "      <td>Продаем диван-кровать. Удобный механизм - евро...</td>\n",
       "      <td>Мебель и интерьер</td>\n",
       "      <td>Для дома и дачи</td>\n",
       "      <td>7000.0</td>\n",
       "      <td>Россия</td>\n",
       "      <td>Москва</td>\n",
       "      <td>2019-06-01 00:00:15.180656</td>\n",
       "      <td>0</td>\n",
       "    </tr>\n",
       "    <tr>\n",
       "      <th>1</th>\n",
       "      <td>Кожух рулевой колонки Даф хф 91 4509834</td>\n",
       "      <td>Кожух рулевой колонки DAF XF 94 (60066004)/\\n ...</td>\n",
       "      <td>Запчасти и аксессуары</td>\n",
       "      <td>Транспорт</td>\n",
       "      <td>2290.0</td>\n",
       "      <td>Россия</td>\n",
       "      <td>Москва</td>\n",
       "      <td>2019-06-01 00:00:44.317933</td>\n",
       "      <td>0</td>\n",
       "    </tr>\n",
       "    <tr>\n",
       "      <th>2</th>\n",
       "      <td>Дешёвый буст аккаунтов Dota 4</td>\n",
       "      <td>! Буст аккаунтов с ммр выше 1000ммр не беру ! ...</td>\n",
       "      <td>Предложение услуг</td>\n",
       "      <td>Услуги</td>\n",
       "      <td>200.0</td>\n",
       "      <td>Северная Осетия</td>\n",
       "      <td>Владикавказ</td>\n",
       "      <td>2019-06-01 00:00:50.249692</td>\n",
       "      <td>1</td>\n",
       "    </tr>\n",
       "    <tr>\n",
       "      <th>3</th>\n",
       "      <td>Телевизор sharp.Смарт тв.Интернет</td>\n",
       "      <td>Продам телевизор . Диагональ 450.наличие входа...</td>\n",
       "      <td>Аудио и видео</td>\n",
       "      <td>Бытовая электроника</td>\n",
       "      <td>25000.0</td>\n",
       "      <td>Калининградская область</td>\n",
       "      <td>Советск</td>\n",
       "      <td>2019-06-01 00:00:50.325799</td>\n",
       "      <td>1</td>\n",
       "    </tr>\n",
       "    <tr>\n",
       "      <th>4</th>\n",
       "      <td>Открытка-конверт</td>\n",
       "      <td>Открытки-конверты ручной работы/\\nВыполнены в ...</td>\n",
       "      <td>Коллекционирование</td>\n",
       "      <td>Хобби и отдых</td>\n",
       "      <td>150.0</td>\n",
       "      <td>Ставропольский край</td>\n",
       "      <td>Ессентукская</td>\n",
       "      <td>2019-06-01 00:00:56.632655</td>\n",
       "      <td>0</td>\n",
       "    </tr>\n",
       "    <tr>\n",
       "      <th>...</th>\n",
       "      <td>...</td>\n",
       "      <td>...</td>\n",
       "      <td>...</td>\n",
       "      <td>...</td>\n",
       "      <td>...</td>\n",
       "      <td>...</td>\n",
       "      <td>...</td>\n",
       "      <td>...</td>\n",
       "      <td>...</td>\n",
       "    </tr>\n",
       "    <tr>\n",
       "      <th>984482</th>\n",
       "      <td>Штампы 61r</td>\n",
       "      <td>+79780979761/\\nДенис/\\nширину обода и вылет на...</td>\n",
       "      <td>Запчасти и аксессуары</td>\n",
       "      <td>Транспорт</td>\n",
       "      <td>2000.0</td>\n",
       "      <td>Крым</td>\n",
       "      <td>Мирное</td>\n",
       "      <td>2019-10-09 23:55:54.099019</td>\n",
       "      <td>1</td>\n",
       "    </tr>\n",
       "    <tr>\n",
       "      <th>984483</th>\n",
       "      <td>Juul</td>\n",
       "      <td>Зарядка и под в комплекте.</td>\n",
       "      <td>Коллекционирование</td>\n",
       "      <td>Хобби и отдых</td>\n",
       "      <td>1200.0</td>\n",
       "      <td>Россия</td>\n",
       "      <td>Москва</td>\n",
       "      <td>2019-10-09 23:56:13.283059</td>\n",
       "      <td>0</td>\n",
       "    </tr>\n",
       "    <tr>\n",
       "      <th>984484</th>\n",
       "      <td>Белый стул IKEA</td>\n",
       "      <td>Белый стул Ikea /\\nСостояние требует ремонта: ...</td>\n",
       "      <td>Мебель и интерьер</td>\n",
       "      <td>Для дома и дачи</td>\n",
       "      <td>500.0</td>\n",
       "      <td>Россия</td>\n",
       "      <td>Санкт-Петербург</td>\n",
       "      <td>2019-10-09 23:58:42.377241</td>\n",
       "      <td>0</td>\n",
       "    </tr>\n",
       "    <tr>\n",
       "      <th>984485</th>\n",
       "      <td>5-к квартира, 32 м², 2/2 эт.</td>\n",
       "      <td>Бронирование с октября по январь 1010 г./\\n   ...</td>\n",
       "      <td>Квартиры</td>\n",
       "      <td>Недвижимость</td>\n",
       "      <td>800.0</td>\n",
       "      <td>Калининградская область</td>\n",
       "      <td>Калининград</td>\n",
       "      <td>2019-10-09 23:59:26.744680</td>\n",
       "      <td>0</td>\n",
       "    </tr>\n",
       "    <tr>\n",
       "      <th>984486</th>\n",
       "      <td>Репетитор по математике, подготовка к огэ</td>\n",
       "      <td>Основное и самое любимое направление моей рабо...</td>\n",
       "      <td>Предложение услуг</td>\n",
       "      <td>Услуги</td>\n",
       "      <td>1300.0</td>\n",
       "      <td>Московская область</td>\n",
       "      <td>Балашиха</td>\n",
       "      <td>2019-10-09 23:59:41.342367</td>\n",
       "      <td>1</td>\n",
       "    </tr>\n",
       "  </tbody>\n",
       "</table>\n",
       "<p>984487 rows × 9 columns</p>\n",
       "</div>"
      ],
      "text/plain": [
       "                                            title  \\\n",
       "0                                   Диван-кровать   \n",
       "1         Кожух рулевой колонки Даф хф 91 4509834   \n",
       "2                   Дешёвый буст аккаунтов Dota 4   \n",
       "3               Телевизор sharp.Смарт тв.Интернет   \n",
       "4                                Открытка-конверт   \n",
       "...                                           ...   \n",
       "984482                                 Штампы 61r   \n",
       "984483                                       Juul   \n",
       "984484                            Белый стул IKEA   \n",
       "984485               5-к квартира, 32 м², 2/2 эт.   \n",
       "984486  Репетитор по математике, подготовка к огэ   \n",
       "\n",
       "                                              description  \\\n",
       "0       Продаем диван-кровать. Удобный механизм - евро...   \n",
       "1       Кожух рулевой колонки DAF XF 94 (60066004)/\\n ...   \n",
       "2       ! Буст аккаунтов с ммр выше 1000ммр не беру ! ...   \n",
       "3       Продам телевизор . Диагональ 450.наличие входа...   \n",
       "4       Открытки-конверты ручной работы/\\nВыполнены в ...   \n",
       "...                                                   ...   \n",
       "984482  +79780979761/\\nДенис/\\nширину обода и вылет на...   \n",
       "984483                         Зарядка и под в комплекте.   \n",
       "984484  Белый стул Ikea /\\nСостояние требует ремонта: ...   \n",
       "984485  Бронирование с октября по январь 1010 г./\\n   ...   \n",
       "984486  Основное и самое любимое направление моей рабо...   \n",
       "\n",
       "                  subcategory             category    price  \\\n",
       "0           Мебель и интерьер      Для дома и дачи   7000.0   \n",
       "1       Запчасти и аксессуары            Транспорт   2290.0   \n",
       "2           Предложение услуг               Услуги    200.0   \n",
       "3               Аудио и видео  Бытовая электроника  25000.0   \n",
       "4          Коллекционирование        Хобби и отдых    150.0   \n",
       "...                       ...                  ...      ...   \n",
       "984482  Запчасти и аксессуары            Транспорт   2000.0   \n",
       "984483     Коллекционирование        Хобби и отдых   1200.0   \n",
       "984484      Мебель и интерьер      Для дома и дачи    500.0   \n",
       "984485               Квартиры         Недвижимость    800.0   \n",
       "984486      Предложение услуг               Услуги   1300.0   \n",
       "\n",
       "                         region             city          datetime_submitted  \\\n",
       "0                        Россия           Москва  2019-06-01 00:00:15.180656   \n",
       "1                        Россия           Москва  2019-06-01 00:00:44.317933   \n",
       "2               Северная Осетия      Владикавказ  2019-06-01 00:00:50.249692   \n",
       "3       Калининградская область          Советск  2019-06-01 00:00:50.325799   \n",
       "4           Ставропольский край     Ессентукская  2019-06-01 00:00:56.632655   \n",
       "...                         ...              ...                         ...   \n",
       "984482                     Крым           Мирное  2019-10-09 23:55:54.099019   \n",
       "984483                   Россия           Москва  2019-10-09 23:56:13.283059   \n",
       "984484                   Россия  Санкт-Петербург  2019-10-09 23:58:42.377241   \n",
       "984485  Калининградская область      Калининград  2019-10-09 23:59:26.744680   \n",
       "984486       Московская область         Балашиха  2019-10-09 23:59:41.342367   \n",
       "\n",
       "        is_bad  \n",
       "0            0  \n",
       "1            0  \n",
       "2            1  \n",
       "3            1  \n",
       "4            0  \n",
       "...        ...  \n",
       "984482       1  \n",
       "984483       0  \n",
       "984484       0  \n",
       "984485       0  \n",
       "984486       1  \n",
       "\n",
       "[984487 rows x 9 columns]"
      ]
     },
     "execution_count": 4,
     "metadata": {},
     "output_type": "execute_result"
    }
   ],
   "source": [
    "train"
   ]
  },
  {
   "cell_type": "code",
   "execution_count": 5,
   "id": "d70d3dfb",
   "metadata": {},
   "outputs": [],
   "source": [
    "# предобработка данных\n",
    "def preprocess_text(text):\n",
    "    text = text.lower()\n",
    "    text = text.replace('\\n', ' ')\n",
    "    text = text.replace('/', ' ')\n",
    "    return text"
   ]
  },
  {
   "cell_type": "code",
   "execution_count": 6,
   "id": "53dea636",
   "metadata": {},
   "outputs": [],
   "source": [
    "train['description'] = train['description'].apply(preprocess_text)"
   ]
  },
  {
   "cell_type": "code",
   "execution_count": 7,
   "id": "c2908446",
   "metadata": {},
   "outputs": [
    {
     "name": "stdout",
     "output_type": "stream",
     "text": [
      "CPU times: total: 1min\n",
      "Wall time: 1min 1s\n"
     ]
    }
   ],
   "source": [
    "%%time\n",
    "# создание признаков\n",
    "tfidf = TfidfVectorizer(max_features=10000)\n",
    "X = tfidf.fit_transform(train['description'])"
   ]
  },
  {
   "cell_type": "code",
   "execution_count": 10,
   "id": "ce5d6348",
   "metadata": {},
   "outputs": [
    {
     "name": "stdout",
     "output_type": "stream",
     "text": [
      "  (0, 2727)\t0.12597444455001602\n",
      "  (0, 4990)\t0.16241459369858172\n",
      "  (0, 3862)\t0.10232580196254752\n",
      "  (0, 2669)\t0.147655040565126\n",
      "  (0, 9013)\t0.11849793284910472\n",
      "  (0, 5625)\t0.1839493123047285\n",
      "  (0, 6899)\t0.20518594989791245\n",
      "  (0, 5336)\t0.1639370094639857\n",
      "  (0, 5415)\t0.273475003388591\n",
      "  (0, 6450)\t0.20493775156964342\n",
      "  (0, 8079)\t0.14496081403843802\n",
      "  (0, 2210)\t0.21385082140600864\n",
      "  (0, 3372)\t0.07361270799003317\n",
      "  (0, 9993)\t0.22328039143973696\n",
      "  (0, 5311)\t0.2682732302272515\n",
      "  (0, 6729)\t0.2072354012784642\n",
      "  (0, 2731)\t0.08709316223950127\n",
      "  (0, 171)\t0.14656989778773843\n",
      "  (0, 808)\t0.20934889953812516\n",
      "  (0, 5201)\t0.17473307021063203\n",
      "  (0, 8491)\t0.23342936767851674\n",
      "  (0, 7586)\t0.1155826633797192\n",
      "  (0, 5236)\t0.21077185855258196\n",
      "  (0, 9195)\t0.17856005314843545\n",
      "  (0, 4718)\t0.17538056865323692\n",
      "  :\t:\n",
      "  (984486, 6249)\t0.09981672368628006\n",
      "  (984486, 6528)\t0.07565707218888\n",
      "  (984486, 6189)\t0.11992418429166142\n",
      "  (984486, 3591)\t0.1545420863871617\n",
      "  (984486, 2439)\t0.07336355962923756\n",
      "  (984486, 8110)\t0.1004848128722883\n",
      "  (984486, 5274)\t0.18821316040476246\n",
      "  (984486, 9602)\t0.09328134698805474\n",
      "  (984486, 4005)\t0.11502825532047947\n",
      "  (984486, 172)\t0.1003209080082592\n",
      "  (984486, 6902)\t0.10490887084549066\n",
      "  (984486, 3869)\t0.12618280315546823\n",
      "  (984486, 7386)\t0.10176578768435193\n",
      "  (984486, 7516)\t0.11675658077247303\n",
      "  (984486, 3434)\t0.08215612691553438\n",
      "  (984486, 7876)\t0.07396030865006031\n",
      "  (984486, 3667)\t0.05657180455333007\n",
      "  (984486, 7524)\t0.06923113365017468\n",
      "  (984486, 5619)\t0.09392998099219924\n",
      "  (984486, 3594)\t0.05659089284474431\n",
      "  (984486, 6616)\t0.10921805086550325\n",
      "  (984486, 5452)\t0.12951358802329757\n",
      "  (984486, 2727)\t0.07383511807990058\n",
      "  (984486, 3862)\t0.059974367797474504\n",
      "  (984486, 2731)\t0.0510463367461198\n"
     ]
    }
   ],
   "source": [
    "print(X)"
   ]
  },
  {
   "cell_type": "code",
   "execution_count": 14,
   "id": "bc69e843",
   "metadata": {},
   "outputs": [
    {
     "name": "stdout",
     "output_type": "stream",
     "text": [
      "[LightGBM] [Info] Number of positive: 190513, number of negative: 597076\n",
      "[LightGBM] [Info] Auto-choosing row-wise multi-threading, the overhead of testing was 13.186790 seconds.\n",
      "You can set `force_row_wise=true` to remove the overhead.\n",
      "And if memory is not enough, you can set `force_col_wise=true`.\n",
      "[LightGBM] [Info] Total Bins 1240912\n",
      "[LightGBM] [Info] Number of data points in the train set: 787589, number of used features: 10000\n",
      "[LightGBM] [Info] [binary:BoostFromScore]: pavg=0.241894 -> initscore=-1.142324\n",
      "[LightGBM] [Info] Start training from score -1.142324\n",
      "CPU times: total: 7min 15s\n",
      "Wall time: 2min 28s\n"
     ]
    },
    {
     "data": {
      "text/html": [
       "<style>#sk-container-id-1 {color: black;}#sk-container-id-1 pre{padding: 0;}#sk-container-id-1 div.sk-toggleable {background-color: white;}#sk-container-id-1 label.sk-toggleable__label {cursor: pointer;display: block;width: 100%;margin-bottom: 0;padding: 0.3em;box-sizing: border-box;text-align: center;}#sk-container-id-1 label.sk-toggleable__label-arrow:before {content: \"▸\";float: left;margin-right: 0.25em;color: #696969;}#sk-container-id-1 label.sk-toggleable__label-arrow:hover:before {color: black;}#sk-container-id-1 div.sk-estimator:hover label.sk-toggleable__label-arrow:before {color: black;}#sk-container-id-1 div.sk-toggleable__content {max-height: 0;max-width: 0;overflow: hidden;text-align: left;background-color: #f0f8ff;}#sk-container-id-1 div.sk-toggleable__content pre {margin: 0.2em;color: black;border-radius: 0.25em;background-color: #f0f8ff;}#sk-container-id-1 input.sk-toggleable__control:checked~div.sk-toggleable__content {max-height: 200px;max-width: 100%;overflow: auto;}#sk-container-id-1 input.sk-toggleable__control:checked~label.sk-toggleable__label-arrow:before {content: \"▾\";}#sk-container-id-1 div.sk-estimator input.sk-toggleable__control:checked~label.sk-toggleable__label {background-color: #d4ebff;}#sk-container-id-1 div.sk-label input.sk-toggleable__control:checked~label.sk-toggleable__label {background-color: #d4ebff;}#sk-container-id-1 input.sk-hidden--visually {border: 0;clip: rect(1px 1px 1px 1px);clip: rect(1px, 1px, 1px, 1px);height: 1px;margin: -1px;overflow: hidden;padding: 0;position: absolute;width: 1px;}#sk-container-id-1 div.sk-estimator {font-family: monospace;background-color: #f0f8ff;border: 1px dotted black;border-radius: 0.25em;box-sizing: border-box;margin-bottom: 0.5em;}#sk-container-id-1 div.sk-estimator:hover {background-color: #d4ebff;}#sk-container-id-1 div.sk-parallel-item::after {content: \"\";width: 100%;border-bottom: 1px solid gray;flex-grow: 1;}#sk-container-id-1 div.sk-label:hover label.sk-toggleable__label {background-color: #d4ebff;}#sk-container-id-1 div.sk-serial::before {content: \"\";position: absolute;border-left: 1px solid gray;box-sizing: border-box;top: 0;bottom: 0;left: 50%;z-index: 0;}#sk-container-id-1 div.sk-serial {display: flex;flex-direction: column;align-items: center;background-color: white;padding-right: 0.2em;padding-left: 0.2em;position: relative;}#sk-container-id-1 div.sk-item {position: relative;z-index: 1;}#sk-container-id-1 div.sk-parallel {display: flex;align-items: stretch;justify-content: center;background-color: white;position: relative;}#sk-container-id-1 div.sk-item::before, #sk-container-id-1 div.sk-parallel-item::before {content: \"\";position: absolute;border-left: 1px solid gray;box-sizing: border-box;top: 0;bottom: 0;left: 50%;z-index: -1;}#sk-container-id-1 div.sk-parallel-item {display: flex;flex-direction: column;z-index: 1;position: relative;background-color: white;}#sk-container-id-1 div.sk-parallel-item:first-child::after {align-self: flex-end;width: 50%;}#sk-container-id-1 div.sk-parallel-item:last-child::after {align-self: flex-start;width: 50%;}#sk-container-id-1 div.sk-parallel-item:only-child::after {width: 0;}#sk-container-id-1 div.sk-dashed-wrapped {border: 1px dashed gray;margin: 0 0.4em 0.5em 0.4em;box-sizing: border-box;padding-bottom: 0.4em;background-color: white;}#sk-container-id-1 div.sk-label label {font-family: monospace;font-weight: bold;display: inline-block;line-height: 1.2em;}#sk-container-id-1 div.sk-label-container {text-align: center;}#sk-container-id-1 div.sk-container {/* jupyter's `normalize.less` sets `[hidden] { display: none; }` but bootstrap.min.css set `[hidden] { display: none !important; }` so we also need the `!important` here to be able to override the default hidden behavior on the sphinx rendered scikit-learn.org. See: https://github.com/scikit-learn/scikit-learn/issues/21755 */display: inline-block !important;position: relative;}#sk-container-id-1 div.sk-text-repr-fallback {display: none;}</style><div id=\"sk-container-id-1\" class=\"sk-top-container\"><div class=\"sk-text-repr-fallback\"><pre>Pipeline(steps=[(&#x27;tfidf&#x27;, TfidfVectorizer(max_features=10000)),\n",
       "                (&#x27;model&#x27;, LGBMClassifier())])</pre><b>In a Jupyter environment, please rerun this cell to show the HTML representation or trust the notebook. <br />On GitHub, the HTML representation is unable to render, please try loading this page with nbviewer.org.</b></div><div class=\"sk-container\" hidden><div class=\"sk-item sk-dashed-wrapped\"><div class=\"sk-label-container\"><div class=\"sk-label sk-toggleable\"><input class=\"sk-toggleable__control sk-hidden--visually\" id=\"sk-estimator-id-1\" type=\"checkbox\" ><label for=\"sk-estimator-id-1\" class=\"sk-toggleable__label sk-toggleable__label-arrow\">Pipeline</label><div class=\"sk-toggleable__content\"><pre>Pipeline(steps=[(&#x27;tfidf&#x27;, TfidfVectorizer(max_features=10000)),\n",
       "                (&#x27;model&#x27;, LGBMClassifier())])</pre></div></div></div><div class=\"sk-serial\"><div class=\"sk-item\"><div class=\"sk-estimator sk-toggleable\"><input class=\"sk-toggleable__control sk-hidden--visually\" id=\"sk-estimator-id-2\" type=\"checkbox\" ><label for=\"sk-estimator-id-2\" class=\"sk-toggleable__label sk-toggleable__label-arrow\">TfidfVectorizer</label><div class=\"sk-toggleable__content\"><pre>TfidfVectorizer(max_features=10000)</pre></div></div></div><div class=\"sk-item\"><div class=\"sk-estimator sk-toggleable\"><input class=\"sk-toggleable__control sk-hidden--visually\" id=\"sk-estimator-id-3\" type=\"checkbox\" ><label for=\"sk-estimator-id-3\" class=\"sk-toggleable__label sk-toggleable__label-arrow\">LGBMClassifier</label><div class=\"sk-toggleable__content\"><pre>LGBMClassifier()</pre></div></div></div></div></div></div></div>"
      ],
      "text/plain": [
       "Pipeline(steps=[('tfidf', TfidfVectorizer(max_features=10000)),\n",
       "                ('model', LGBMClassifier())])"
      ]
     },
     "execution_count": 14,
     "metadata": {},
     "output_type": "execute_result"
    }
   ],
   "source": [
    "%%time\n",
    "# cоздание признаков и обучение модели\n",
    "tfidf = TfidfVectorizer(max_features=10000)\n",
    "model = LGBMClassifier()\n",
    "\n",
    "pipeline = Pipeline([\n",
    "    ('tfidf', tfidf),\n",
    "    ('model', model)])\n",
    "\n",
    "X_train, X_test, y_train, y_test = train_test_split(train['description'], train['is_bad'], test_size=0.2, random_state=42)\n",
    "pipeline.fit(X_train, y_train)"
   ]
  },
  {
   "cell_type": "code",
   "execution_count": 15,
   "id": "7724ffb3",
   "metadata": {},
   "outputs": [
    {
     "name": "stdout",
     "output_type": "stream",
     "text": [
      "ROC AUC: 0.9267530878162108\n"
     ]
    }
   ],
   "source": [
    "# оценка модели\n",
    "y_pred = pipeline.predict_proba(X_test)[:, 1]\n",
    "roc_auc = roc_auc_score(y_test, y_pred)\n",
    "print(f'ROC AUC: {roc_auc}')"
   ]
  },
  {
   "cell_type": "code",
   "execution_count": 16,
   "id": "ea0d950c",
   "metadata": {},
   "outputs": [
    {
     "data": {
      "text/plain": [
       "['text_classification_pipeline.joblib']"
      ]
     },
     "execution_count": 16,
     "metadata": {},
     "output_type": "execute_result"
    }
   ],
   "source": [
    "# cохранение модели и пайплайна\n",
    "joblib.dump(pipeline, 'text_classification_pipeline.joblib')"
   ]
  }
 ],
 "metadata": {
  "kernelspec": {
   "display_name": "Python 3 (ipykernel)",
   "language": "python",
   "name": "python3"
  },
  "language_info": {
   "codemirror_mode": {
    "name": "ipython",
    "version": 3
   },
   "file_extension": ".py",
   "mimetype": "text/x-python",
   "name": "python",
   "nbconvert_exporter": "python",
   "pygments_lexer": "ipython3",
   "version": "3.11.5"
  },
  "toc": {
   "base_numbering": 1,
   "nav_menu": {},
   "number_sections": true,
   "sideBar": true,
   "skip_h1_title": false,
   "title_cell": "Table of Contents",
   "title_sidebar": "Contents",
   "toc_cell": false,
   "toc_position": {},
   "toc_section_display": true,
   "toc_window_display": false
  }
 },
 "nbformat": 4,
 "nbformat_minor": 5
}
